{
 "cells": [
  {
   "cell_type": "markdown",
   "id": "65e6f38f",
   "metadata": {},
   "source": [
    "## 시각화 과제\n",
    "- 수업에서 배운 내용 이외로 matplot, seaborn 수업에서 다루지 않았던 인자들을 정리하고 시각화하기\n",
    "- 구글링하면 찾을 수 있음\n",
    "- 최소 10개 이상의 시각화 그래프 그리기"
   ]
  },
  {
   "cell_type": "markdown",
   "id": "270bcff2",
   "metadata": {},
   "source": [
    "#### matplotlib"
   ]
  },
  {
   "cell_type": "code",
   "execution_count": 3,
   "id": "0d97496e",
   "metadata": {},
   "outputs": [],
   "source": [
    "from matplotlib import pyplot as plt\n",
    "import numpy as np"
   ]
  },
  {
   "cell_type": "code",
   "execution_count": 8,
   "id": "aafc556b",
   "metadata": {},
   "outputs": [
    {
     "data": {
      "text/plain": [
       "<matplotlib.collections.PathCollection at 0x197f4d66a90>"
      ]
     },
     "execution_count": 8,
     "metadata": {},
     "output_type": "execute_result"
    },
    {
     "data": {
      "image/png": "[encoded data removed]",
      "text/plain": [
       "<Figure size 432x288 with 1 Axes>"
      ]
     },
     "metadata": {
      "needs_background": "light"
     },
     "output_type": "display_data"
    }
   ],
   "source": [
    "x = np.random.randint(0, 100, 50)     # 0 ~ 100 사이의 정수 중 랜덤한 50개\n",
    "y = np.random.randint(0, 100, 50)\n",
    "plt.scatter(x, y, s = 30, marker = \"d\", alpha = 0.5)"
   ]
  },
  {
   "cell_type": "code",
   "execution_count": null,
   "id": "0e34207a",
   "metadata": {},
   "outputs": [],
   "source": []
  }
 ],
 "metadata": {
  "kernelspec": {
   "display_name": "Python 3 (ipykernel)",
   "language": "python",
   "name": "python3"
  },
  "language_info": {
   "codemirror_mode": {
    "name": "ipython",
    "version": 3
   },
   "file_extension": ".py",
   "mimetype": "text/x-python",
   "name": "python",
   "nbconvert_exporter": "python",
   "pygments_lexer": "ipython3",
   "version": "3.9.7"
  }
 },
 "nbformat": 4,
 "nbformat_minor": 5
}
