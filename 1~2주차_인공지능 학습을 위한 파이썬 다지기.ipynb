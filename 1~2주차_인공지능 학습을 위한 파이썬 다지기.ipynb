{
 "cells": [
  {
   "cell_type": "code",
   "execution_count": 1,
   "id": "f14bd5da",
   "metadata": {},
   "outputs": [
    {
     "name": "stdout",
     "output_type": "stream",
     "text": [
      "오늘 파이썬 배우기 좋은 날이네!\n"
     ]
    }
   ],
   "source": [
    "print(\"오늘 파이썬 배우기 좋은 날이네!\")"
   ]
  },
  {
   "cell_type": "markdown",
   "id": "415a07f6",
   "metadata": {},
   "source": [
    "###### 변수 이름 규칙\n",
    "\n",
    "소문자, 대문자, 숫자, 한글도 가능(비추), 특수기호는 언더바 _ 만 가능\n",
    "\n",
    "숫자는 맨 처음에 올 수 없고 예약어 사용 불가"
   ]
  },
  {
   "cell_type": "markdown",
   "id": "bc591652",
   "metadata": {},
   "source": [
    "###### 주요 데이터 타입\n",
    "- int\n",
    "- float\n",
    "- str\n",
    "- bool\n"
   ]
  },
  {
   "cell_type": "code",
   "execution_count": 5,
   "id": "1d5afc8a",
   "metadata": {},
   "outputs": [
    {
     "data": {
      "text/plain": [
       "int"
      ]
     },
     "execution_count": 5,
     "metadata": {},
     "output_type": "execute_result"
    }
   ],
   "source": [
    "type(1)"
   ]
  },
  {
   "cell_type": "code",
   "execution_count": 6,
   "id": "6509ace4",
   "metadata": {},
   "outputs": [
    {
     "data": {
      "text/plain": [
       "bool"
      ]
     },
     "execution_count": 6,
     "metadata": {},
     "output_type": "execute_result"
    }
   ],
   "source": [
    "type(True)"
   ]
  },
  {
   "cell_type": "code",
   "execution_count": 7,
   "id": "b7ab035e",
   "metadata": {},
   "outputs": [
    {
     "data": {
      "text/plain": [
       "NoneType"
      ]
     },
     "execution_count": 7,
     "metadata": {},
     "output_type": "execute_result"
    }
   ],
   "source": [
    "a = None\n",
    "type(a)"
   ]
  },
  {
   "cell_type": "code",
   "execution_count": 9,
   "id": "6faf775b",
   "metadata": {},
   "outputs": [
    {
     "name": "stdout",
     "output_type": "stream",
     "text": [
      "3보다 작거나 같다\n"
     ]
    }
   ],
   "source": [
    "a = 2\n",
    "\n",
    "if a > 10:\n",
    "    print(\"10보다 크다\")\n",
    "elif a > 5:\n",
    "    print(\"5보다 크다\")\n",
    "elif a > 3:\n",
    "    print(\"3보다 크다\")\n",
    "else:\n",
    "    print(\"3보다 작거나 같다\")"
   ]
  },
  {
   "cell_type": "code",
   "execution_count": 12,
   "id": "51edbd80",
   "metadata": {},
   "outputs": [
    {
     "name": "stdout",
     "output_type": "stream",
     "text": [
      "1\n",
      "2\n",
      "3\n",
      "4\n",
      "5\n"
     ]
    }
   ],
   "source": [
    "myList = [1,2,3,4,5]\n",
    "for i in myList:\n",
    "    print(i)"
   ]
  },
  {
   "cell_type": "code",
   "execution_count": 13,
   "id": "26f6c018",
   "metadata": {},
   "outputs": [
    {
     "name": "stdout",
     "output_type": "stream",
     "text": [
      "2\n",
      "4\n",
      "5\n",
      "8\n",
      "9\n"
     ]
    }
   ],
   "source": [
    "for i in (2,4,5,8,9):\n",
    "    print(i)"
   ]
  },
  {
   "cell_type": "code",
   "execution_count": 14,
   "id": "76b99400",
   "metadata": {},
   "outputs": [
    {
     "name": "stdout",
     "output_type": "stream",
     "text": [
      "김동현 27\n",
      "김조현 24\n",
      "김승현 22\n"
     ]
    }
   ],
   "source": [
    "mytuplelist = [('김동현', 27), ('김조현', 24), ('김승현', 22)]\n",
    "for mytuple in mytuplelist:\n",
    "    print(mytuple[0], mytuple[1])"
   ]
  },
  {
   "cell_type": "code",
   "execution_count": 19,
   "id": "5e13e87f",
   "metadata": {},
   "outputs": [
    {
     "name": "stdout",
     "output_type": "stream",
     "text": [
      "김동현 27\n",
      "김조현 24\n",
      "김승현 22\n"
     ]
    }
   ],
   "source": [
    "for name, age in mytuplelist:\n",
    "    print(name, age)"
   ]
  },
  {
   "cell_type": "code",
   "execution_count": 17,
   "id": "4e90decd",
   "metadata": {},
   "outputs": [
    {
     "name": "stdout",
     "output_type": "stream",
     "text": [
      "하마\n",
      "펭귄\n",
      "기린\n"
     ]
    }
   ],
   "source": [
    "mydict = {'하마' : 10, '펭귄' : 7, '기린' : 23}\n",
    "for key in mydict.keys():\n",
    "    print(key)"
   ]
  },
  {
   "cell_type": "code",
   "execution_count": 20,
   "id": "b33df483",
   "metadata": {},
   "outputs": [
    {
     "name": "stdout",
     "output_type": "stream",
     "text": [
      "10\n",
      "7\n",
      "23\n"
     ]
    }
   ],
   "source": [
    "for value in mydict.values():\n",
    "    print(value)"
   ]
  },
  {
   "cell_type": "code",
   "execution_count": 22,
   "id": "34d68417",
   "metadata": {},
   "outputs": [
    {
     "name": "stdout",
     "output_type": "stream",
     "text": [
      "하마 10\n",
      "펭귄 7\n",
      "기린 23\n"
     ]
    }
   ],
   "source": [
    "for name, age in mydict.items():\n",
    "    print(name, age)"
   ]
  },
  {
   "cell_type": "code",
   "execution_count": 23,
   "id": "160e6dda",
   "metadata": {},
   "outputs": [
    {
     "name": "stdout",
     "output_type": "stream",
     "text": [
      "W\n",
      "o\n",
      "r\n",
      "l\n",
      "d\n"
     ]
    }
   ],
   "source": [
    "for c in \"World\":\n",
    "    print(c)"
   ]
  },
  {
   "cell_type": "code",
   "execution_count": 24,
   "id": "cafc0896",
   "metadata": {},
   "outputs": [
    {
     "name": "stdout",
     "output_type": "stream",
     "text": [
      "1\n",
      "4\n",
      "7\n",
      "10\n",
      "13\n"
     ]
    }
   ],
   "source": [
    "for i in range(1,15,3):\n",
    "    print(i)"
   ]
  },
  {
   "cell_type": "code",
   "execution_count": 28,
   "id": "22ad35a6",
   "metadata": {},
   "outputs": [
    {
     "name": "stdout",
     "output_type": "stream",
     "text": [
      "1\n",
      "2\n",
      "3\n",
      "4\n",
      "5\n",
      "6\n",
      "7\n"
     ]
    }
   ],
   "source": [
    "cnt = 1\n",
    "\n",
    "while True:\n",
    "    print(cnt)\n",
    "    cnt += 1\n",
    "    if cnt > 7:\n",
    "        break"
   ]
  },
  {
   "cell_type": "markdown",
   "id": "fe4a0c3f",
   "metadata": {},
   "source": [
    "###### 함수\n",
    "- 인수(argument) : 값, 변수, 참조 등 전달되는 값\n",
    "- 매개변수(parameter) : 함수 등에서 사용되는 전달된 값을 받는 변수"
   ]
  },
  {
   "cell_type": "code",
   "execution_count": 29,
   "id": "84c4a3c8",
   "metadata": {},
   "outputs": [
    {
     "data": {
      "text/plain": [
       "30"
      ]
     },
     "execution_count": 29,
     "metadata": {},
     "output_type": "execute_result"
    }
   ],
   "source": [
    "def sum_func(a, b):\n",
    "    return a+b\n",
    "\n",
    "sum_func(10, 20)"
   ]
  },
  {
   "cell_type": "markdown",
   "id": "9d1541e5",
   "metadata": {},
   "source": [
    "3번째 줄의 10, 20은 인수, 첫 줄의 a, b는 매개변수"
   ]
  },
  {
   "cell_type": "code",
   "execution_count": 31,
   "id": "8477d5ef",
   "metadata": {},
   "outputs": [
    {
     "data": {
      "text/plain": [
       "10"
      ]
     },
     "execution_count": 31,
     "metadata": {},
     "output_type": "execute_result"
    }
   ],
   "source": [
    "# 키워드 인수\n",
    "sum_func(b = 7, a = 3)"
   ]
  },
  {
   "cell_type": "markdown",
   "id": "cc329b10",
   "metadata": {},
   "source": [
    "###### 기본 매개변수\n",
    "- 매개변수에 기본 값을 지정 할 수 있다\n",
    "- 기본 값을 지정한 인수에는 값을 생략할 수 있다.\n",
    "- 기본 값을 지정한 인수는 위치 인수보다 뒤쪽에 위치해야 한다."
   ]
  },
  {
   "cell_type": "code",
   "execution_count": 2,
   "id": "01fd7d6e",
   "metadata": {},
   "outputs": [],
   "source": [
    "def add_func(b, c, a = 0):\n",
    "    return a+b+c"
   ]
  },
  {
   "cell_type": "markdown",
   "id": "433a4392",
   "metadata": {},
   "source": [
    "###### 가변 매개변수\n",
    "가변 매개변수 함수란, 매개변수의 개수가 유동적으로 변하는 함수\n",
    "\n",
    "1. 가변 매개변수는 한 함수에서 하나만 사용할 수 있다.\n",
    "2. 가변 매개변수는 무조건 매개변수의 맨 마지막에 들어가야 한다."
   ]
  },
  {
   "cell_type": "code",
   "execution_count": 33,
   "id": "1b96d5bc",
   "metadata": {},
   "outputs": [
    {
     "name": "stdout",
     "output_type": "stream",
     "text": [
      "0\n",
      "1\n",
      "(2, 3, 4, 5, 6, 7, 8, 9)\n"
     ]
    }
   ],
   "source": [
    "def func(arg1, arg2, *args):\n",
    "    print(arg1)\n",
    "    print(arg2)\n",
    "    print(args)\n",
    "    \n",
    "func(0,1,2,3,4,5,6,7,8,9)"
   ]
  },
  {
   "cell_type": "markdown",
   "id": "c8e17d8a",
   "metadata": {},
   "source": [
    "###### 매개변수 정리\n",
    "\"일반 매개변수 - 가변 매개변수 - 기본 매개변수(default 값이 지정된 매개변수)\" 순서로 선언\n",
    "\n",
    "기본 매개변수에 값을 전달할 때에는 매개변수의 이름을 직접 입력해서 전달(print의 end 처럼!)\n",
    "\n",
    "기본 매개변수는 이름이 지정되어 있기 때문에 그것들끼리는 순서가 무관"
   ]
  },
  {
   "cell_type": "code",
   "execution_count": 34,
   "id": "8085df10",
   "metadata": {},
   "outputs": [
    {
     "name": "stdout",
     "output_type": "stream",
     "text": [
      "0 1\n",
      "(2, 3, 4, 5, 6, 7, 8, 9, 10)\n",
      "10 24\n"
     ]
    }
   ],
   "source": [
    "def function(arg1, arg2, *args, a = 10, b = 20):\n",
    "    print(arg1, arg2)\n",
    "    print(args)\n",
    "    print(a, b)\n",
    "    \n",
    "function(0,1,2,3,4,5,6,7,8,9,10,b = 24)"
   ]
  },
  {
   "cell_type": "markdown",
   "id": "ce577548",
   "metadata": {},
   "source": [
    "###### dict 인수\n",
    "- 여러 개의 인수를 전달 받을 수 있고, 전달 받은 인수를 딕셔너리 형식으로 저장\n",
    "- dict 매개변수로 받은 인수는 반복문으로 처리하는 것이 일반적"
   ]
  },
  {
   "cell_type": "code",
   "execution_count": 37,
   "id": "8b9027cc",
   "metadata": {},
   "outputs": [],
   "source": [
    "def add_function(**kwargs):\n",
    "    total_age = 0\n",
    "    for name, age in kwargs.items():\n",
    "        print(f'이름 : {name}, 나이 : {age}')\n",
    "        total_age += age\n",
    "    print('==='*5)\n",
    "    print(f'전체 나이의 합계 : {total_age}')"
   ]
  },
  {
   "cell_type": "code",
   "execution_count": 38,
   "id": "0cfe13a3",
   "metadata": {},
   "outputs": [
    {
     "name": "stdout",
     "output_type": "stream",
     "text": [
      "===============\n",
      "전체 나이의 합계 : 0\n"
     ]
    }
   ],
   "source": [
    "add_function()"
   ]
  },
  {
   "cell_type": "code",
   "execution_count": 39,
   "id": "fb16c0a6",
   "metadata": {},
   "outputs": [
    {
     "name": "stdout",
     "output_type": "stream",
     "text": [
      "이름 : lee, 나이 : 5\n",
      "===============\n",
      "전체 나이의 합계 : 5\n"
     ]
    }
   ],
   "source": [
    "add_function(lee = 5)"
   ]
  },
  {
   "cell_type": "code",
   "execution_count": 40,
   "id": "92ee47f1",
   "metadata": {},
   "outputs": [
    {
     "name": "stdout",
     "output_type": "stream",
     "text": [
      "이름 : john, 나이 : 10\n",
      "이름 : peter, 나이 : 12\n",
      "이름 : kim, 나이 : 24\n",
      "===============\n",
      "전체 나이의 합계 : 46\n"
     ]
    }
   ],
   "source": [
    "add_function(john = 10, peter = 12, kim = 24)"
   ]
  },
  {
   "cell_type": "code",
   "execution_count": 43,
   "id": "570ce772",
   "metadata": {},
   "outputs": [
    {
     "data": {
      "text/plain": [
       "{'kate': 7, 'rachel': 10, 'park': 18}"
      ]
     },
     "execution_count": 43,
     "metadata": {},
     "output_type": "execute_result"
    }
   ],
   "source": [
    "person = {'kate' : 7, 'rachel' : 10, 'park' : 18}\n",
    "person"
   ]
  },
  {
   "cell_type": "code",
   "execution_count": 44,
   "id": "b17f7449",
   "metadata": {},
   "outputs": [
    {
     "name": "stdout",
     "output_type": "stream",
     "text": [
      "이름 : kate, 나이 : 7\n",
      "이름 : rachel, 나이 : 10\n",
      "이름 : park, 나이 : 18\n",
      "===============\n",
      "전체 나이의 합계 : 35\n"
     ]
    }
   ],
   "source": [
    "add_function(**person)"
   ]
  },
  {
   "cell_type": "markdown",
   "id": "a910a11c",
   "metadata": {},
   "source": [
    "딕셔너리를 인수로 지정해서 함수를 호출하는 경우에는 앞에 ** 을 붙여줍니다."
   ]
  },
  {
   "cell_type": "markdown",
   "id": "1feb0ffd",
   "metadata": {},
   "source": [
    "###### 문자열"
   ]
  },
  {
   "cell_type": "markdown",
   "id": "4b585f47",
   "metadata": {},
   "source": [
    "자주 사용되는 문자열 내장 함수 : count(), find(), index()\n",
    "- count() : 세고 싶은 문자열 조각이 문자열에 몇 번 들어있는 지 세어서 반환\n",
    "- find() : 찾고자 하는 문자열 조각의 시작 위치 인덱스 반환\n",
    "- index() : find()와 동일한 기능"
   ]
  },
  {
   "cell_type": "code",
   "execution_count": 12,
   "id": "2a110101",
   "metadata": {},
   "outputs": [
    {
     "name": "stdout",
     "output_type": "stream",
     "text": [
      "1\n",
      "5\n",
      "2\n"
     ]
    }
   ],
   "source": [
    "string = \"i am happy\"\n",
    "print(string.count(\"happy\"))\n",
    "print(string.find(\"happy\"))\n",
    "print(string.index(\"am\"))"
   ]
  },
  {
   "cell_type": "markdown",
   "id": "787c2fb3",
   "metadata": {},
   "source": [
    "대문자/소문자\n",
    "\n",
    "- str.upper() : str을 대문자로 출력\n",
    "- str.lower() : str을 소문자로 출력\n",
    "- str.isupper() : str이 대문자인지 검사 (True / False 반환)\n",
    "- str.islower() : str이 소문자인지 검사(True / False 반환)"
   ]
  },
  {
   "cell_type": "code",
   "execution_count": 15,
   "id": "bc23d74a",
   "metadata": {},
   "outputs": [
    {
     "name": "stdout",
     "output_type": "stream",
     "text": [
      "aPPLE, ipHONE13"
     ]
    }
   ],
   "source": [
    "# 대문자는 소문자로, 소문자는 대문자로 출력하기\n",
    "\n",
    "string = \"Apple, IPhone13\"\n",
    "\n",
    "for i in string:\n",
    "    if i.islower():\n",
    "        print(i.upper(), end=\"\")\n",
    "    elif i.isupper():\n",
    "        print(i.lower(), end=\"\")\n",
    "    else:\n",
    "        print(i, end=\"\")"
   ]
  },
  {
   "cell_type": "markdown",
   "id": "f57d4e56",
   "metadata": {},
   "source": [
    "문자열 split / join\n",
    "\n",
    "- split 함수는 괄호 안에 아무 값도 넣어 주지 않으면 공백(스페이스, 탭, 엔터 등)을 기준으로 문자열을 나누어 준다.\n",
    "\n",
    "- split(\":\") 처럼 괄호안에 특정 값이 있을 경우에는 괄호 안의 값을 구분자로 해서 문자열을 나눠준다.\n",
    "\n",
    "- 이렇게 나누어진 값은 리스트에 하나씩 들어간다."
   ]
  },
  {
   "cell_type": "code",
   "execution_count": 17,
   "id": "b5488ac2",
   "metadata": {},
   "outputs": [
    {
     "name": "stdout",
     "output_type": "stream",
     "text": [
      "['I', 'became', 'a', 'zombie']\n"
     ]
    }
   ],
   "source": [
    "string = \"I became a zombie\"\n",
    "print(string.split(' '))"
   ]
  },
  {
   "cell_type": "code",
   "execution_count": 19,
   "id": "12429158",
   "metadata": {},
   "outputs": [
    {
     "name": "stdout",
     "output_type": "stream",
     "text": [
      "['str', 'and', 'join', 'practice', 'string']\n",
      "str-and-join-practice-string\n"
     ]
    }
   ],
   "source": [
    "str_ = \"str and join practice string\"\n",
    "str_ = str_.split(\" \")\n",
    "print(str_)\n",
    "\n",
    "str_ = ('-').join(str_)\n",
    "print(str_)"
   ]
  },
  {
   "cell_type": "code",
   "execution_count": 20,
   "id": "2875bfd9",
   "metadata": {},
   "outputs": [
    {
     "name": "stdout",
     "output_type": "stream",
     "text": [
      "green.\n",
      "pyhton.\n",
      "example.\n",
      "school\n"
     ]
    }
   ],
   "source": [
    "a = ['green', 'pyhton', 'example', 'school']\n",
    "result = \".\\n\".join(a)\n",
    "print(result)"
   ]
  },
  {
   "cell_type": "markdown",
   "id": "1b41e4c6",
   "metadata": {},
   "source": [
    "파일 열고 읽기"
   ]
  },
  {
   "cell_type": "code",
   "execution_count": 52,
   "id": "5dbc819b",
   "metadata": {},
   "outputs": [
    {
     "data": {
      "text/plain": [
       "5"
      ]
     },
     "execution_count": 52,
     "metadata": {},
     "output_type": "execute_result"
    }
   ],
   "source": [
    "f = open(\"practice.txt\", \"a\")\n",
    "f.write(\"hello\")"
   ]
  },
  {
   "cell_type": "markdown",
   "id": "db25131c",
   "metadata": {},
   "source": [
    "리스트/딕셔너리/튜플"
   ]
  },
  {
   "cell_type": "code",
   "execution_count": null,
   "id": "35ae6109",
   "metadata": {},
   "outputs": [],
   "source": []
  }
 ],
 "metadata": {
  "kernelspec": {
   "display_name": "Python 3 (ipykernel)",
   "language": "python",
   "name": "python3"
  },
  "language_info": {
   "codemirror_mode": {
    "name": "ipython",
    "version": 3
   },
   "file_extension": ".py",
   "mimetype": "text/x-python",
   "name": "python",
   "nbconvert_exporter": "python",
   "pygments_lexer": "ipython3",
   "version": "3.9.7"
  }
 },
 "nbformat": 4,
 "nbformat_minor": 5
}
