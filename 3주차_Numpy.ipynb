{
 "cells": [
  {
   "cell_type": "markdown",
   "id": "307e311c",
   "metadata": {},
   "source": [
    "NumPy 특징\n",
    "- Numerical Python의 약자\n",
    "- 고성능 과학 계산용 패키지로 강력한 N차원 배열 만들 수 있음\n",
    "- 범용적 데이터 처리에 사용 가능한 다차원 컨테이너이다.\n",
    "- 정교한 브로드캐스팅 기능이 있다.\n",
    "- 파이썬의 리스트와 비슷하지만 더 빠르고 메모리 효율적\n",
    "- 반복문 없이 데이터 배열에 대한 처리를 빠르게 처리 가능\n",
    "- 데이터 과학 분야에서의 핵심 패키지 중 하나"
   ]
  },
  {
   "cell_type": "code",
   "execution_count": 1,
   "id": "bf1856d4",
   "metadata": {},
   "outputs": [
    {
     "data": {
      "text/plain": [
       "'1.20.3'"
      ]
     },
     "execution_count": 1,
     "metadata": {},
     "output_type": "execute_result"
    }
   ],
   "source": [
    "import numpy as np\n",
    "np.__version__"
   ]
  },
  {
   "cell_type": "markdown",
   "id": "636b2d50",
   "metadata": {},
   "source": [
    "### 배열 생성\n",
    "##### 리스트로 배열 만들기"
   ]
  },
  {
   "cell_type": "code",
   "execution_count": 2,
   "id": "11999d87",
   "metadata": {},
   "outputs": [
    {
     "name": "stdout",
     "output_type": "stream",
     "text": [
      "[1 2 3 4 5]\n",
      "<class 'numpy.ndarray'>\n",
      "(5,)\n",
      "1 2 3 4 5\n",
      "[4 5 6 4 5]\n"
     ]
    }
   ],
   "source": [
    "# 1차원 배열\n",
    "\n",
    "a1 = np.array([1, 2, 3, 4, 5])\n",
    "print(a1)\n",
    "print(type(a1))\n",
    "print(a1.shape)\n",
    "print(a1[0], a1[1], a1[2], a1[3], a1[4])\n",
    "\n",
    "a1[0] = 4\n",
    "a1[1] = 5\n",
    "a1[2] = 6\n",
    "print(a1)"
   ]
  },
  {
   "cell_type": "code",
   "execution_count": 3,
   "id": "a942c595",
   "metadata": {},
   "outputs": [
    {
     "name": "stdout",
     "output_type": "stream",
     "text": [
      "[[1 2 3]\n",
      " [4 5 6]\n",
      " [7 8 9]]\n",
      "(3, 3)\n",
      "1 5 9\n"
     ]
    }
   ],
   "source": [
    "# 2차원 배열\n",
    "\n",
    "a2 = np.array([[1,2,3],[4,5,6],[7,8,9]])\n",
    "print(a2)\n",
    "print(a2.shape)\n",
    "print(a2[0,0], a2[1,1], a2[2,2])"
   ]
  },
  {
   "cell_type": "code",
   "execution_count": 4,
   "id": "ca9e4580",
   "metadata": {},
   "outputs": [
    {
     "name": "stdout",
     "output_type": "stream",
     "text": [
      "[[[1 2 3]\n",
      "  [4 5 6]\n",
      "  [7 8 9]]\n",
      "\n",
      " [[1 2 3]\n",
      "  [4 5 6]\n",
      "  [7 8 9]]\n",
      "\n",
      " [[1 2 3]\n",
      "  [4 5 6]\n",
      "  [7 8 9]]]\n",
      "(3, 3, 3)\n"
     ]
    }
   ],
   "source": [
    "# 3차원 배열\n",
    "\n",
    "a3 = np.array([ [[1,2,3],[4,5,6],[7,8,9]],\n",
    "                [[1,2,3],[4,5,6],[7,8,9]],\n",
    "                [[1,2,3],[4,5,6],[7,8,9]] ])\n",
    "print(a3)\n",
    "print(a3.shape)"
   ]
  },
  {
   "cell_type": "markdown",
   "id": "de9baca6",
   "metadata": {},
   "source": [
    "##### 배열 생성 및 초기화"
   ]
  },
  {
   "cell_type": "code",
   "execution_count": 5,
   "id": "650977b5",
   "metadata": {},
   "outputs": [
    {
     "data": {
      "text/plain": [
       "array([0., 0., 0., 0., 0., 0., 0., 0., 0., 0.])"
      ]
     },
     "execution_count": 5,
     "metadata": {},
     "output_type": "execute_result"
    }
   ],
   "source": [
    "np.zeros(10)  # 0으로 초기화 된 10개의 요소를 갖는 배열 만들어 줌"
   ]
  },
  {
   "cell_type": "code",
   "execution_count": 6,
   "id": "abe5d182",
   "metadata": {},
   "outputs": [
    {
     "data": {
      "text/plain": [
       "array([1., 1., 1., 1., 1., 1., 1., 1., 1., 1.])"
      ]
     },
     "execution_count": 6,
     "metadata": {},
     "output_type": "execute_result"
    }
   ],
   "source": [
    "np.ones(10)  # 1로 초기화 된 10개의 요소를 갖는 배열 만듬"
   ]
  },
  {
   "cell_type": "code",
   "execution_count": 7,
   "id": "6fcf3285",
   "metadata": {},
   "outputs": [
    {
     "data": {
      "text/plain": [
       "array([[1., 1., 1.],\n",
       "       [1., 1., 1.],\n",
       "       [1., 1., 1.]])"
      ]
     },
     "execution_count": 7,
     "metadata": {},
     "output_type": "execute_result"
    }
   ],
   "source": [
    "np.ones((3, 3))"
   ]
  },
  {
   "cell_type": "code",
   "execution_count": 8,
   "id": "df5513ea",
   "metadata": {},
   "outputs": [
    {
     "data": {
      "text/plain": [
       "array([[1.23, 1.23, 1.23],\n",
       "       [1.23, 1.23, 1.23],\n",
       "       [1.23, 1.23, 1.23]])"
      ]
     },
     "execution_count": 8,
     "metadata": {},
     "output_type": "execute_result"
    }
   ],
   "source": [
    "np.full((3,3), 1.23)  # 모든 요소를 지정한 값으로 채워줌"
   ]
  },
  {
   "cell_type": "code",
   "execution_count": 9,
   "id": "e9fa9024",
   "metadata": {},
   "outputs": [
    {
     "data": {
      "text/plain": [
       "array([[1., 0., 0.],\n",
       "       [0., 1., 0.],\n",
       "       [0., 0., 1.]])"
      ]
     },
     "execution_count": 9,
     "metadata": {},
     "output_type": "execute_result"
    }
   ],
   "source": [
    "np.eye(3)  # 단위 행렬(주대각선 원소 모두 1이고 나머지 원소는 0인 정사각 행렬) 만들어줌, 인자로 size만 설정해주면 됨"
   ]
  },
  {
   "cell_type": "code",
   "execution_count": 10,
   "id": "f023faeb",
   "metadata": {},
   "outputs": [
    {
     "data": {
      "text/plain": [
       "array([[1., 0., 0.],\n",
       "       [1., 1., 0.],\n",
       "       [1., 1., 1.]])"
      ]
     },
     "execution_count": 10,
     "metadata": {},
     "output_type": "execute_result"
    }
   ],
   "source": [
    "np.tri(3)  # 삼각 행렬 생성"
   ]
  },
  {
   "cell_type": "code",
   "execution_count": 11,
   "id": "89b2950b",
   "metadata": {},
   "outputs": [
    {
     "data": {
      "text/plain": [
       "array([1., 1., 1., 1., 1., 1., 1., 1., 1., 1.])"
      ]
     },
     "execution_count": 11,
     "metadata": {},
     "output_type": "execute_result"
    }
   ],
   "source": [
    "np.empty(10)  # 초기화되지 않은 배열 생성"
   ]
  },
  {
   "cell_type": "markdown",
   "id": "03bd79f7",
   "metadata": {},
   "source": [
    "- 초기화가 없으므로 배열 생성 비용 저렴하고 빠름\n",
    "- 초기화되지 않아서, 배열이 할당된 위치에 이미 그 메모리에 있던 기존의 값들이 들어감"
   ]
  },
  {
   "cell_type": "code",
   "execution_count": 12,
   "id": "c1e935cf",
   "metadata": {},
   "outputs": [
    {
     "name": "stdout",
     "output_type": "stream",
     "text": [
      "[4 5 6 4 5]\n"
     ]
    },
    {
     "data": {
      "text/plain": [
       "array([0, 0, 0, 0, 0])"
      ]
     },
     "execution_count": 12,
     "metadata": {},
     "output_type": "execute_result"
    }
   ],
   "source": [
    "print(a1)\n",
    "np.zeros_like(a1)"
   ]
  },
  {
   "cell_type": "code",
   "execution_count": 13,
   "id": "3e21c2c1",
   "metadata": {},
   "outputs": [
    {
     "name": "stdout",
     "output_type": "stream",
     "text": [
      "[[1 2 3]\n",
      " [4 5 6]\n",
      " [7 8 9]]\n"
     ]
    },
    {
     "data": {
      "text/plain": [
       "array([[1, 1, 1],\n",
       "       [1, 1, 1],\n",
       "       [1, 1, 1]])"
      ]
     },
     "execution_count": 13,
     "metadata": {},
     "output_type": "execute_result"
    }
   ],
   "source": [
    "print(a2)\n",
    "np.ones_like(a2)"
   ]
  },
  {
   "cell_type": "code",
   "execution_count": 14,
   "id": "6a3a57ff",
   "metadata": {},
   "outputs": [
    {
     "name": "stdout",
     "output_type": "stream",
     "text": [
      "[[[1 2 3]\n",
      "  [4 5 6]\n",
      "  [7 8 9]]\n",
      "\n",
      " [[1 2 3]\n",
      "  [4 5 6]\n",
      "  [7 8 9]]\n",
      "\n",
      " [[1 2 3]\n",
      "  [4 5 6]\n",
      "  [7 8 9]]]\n"
     ]
    },
    {
     "data": {
      "text/plain": [
       "array([[[10, 10, 10],\n",
       "        [10, 10, 10],\n",
       "        [10, 10, 10]],\n",
       "\n",
       "       [[10, 10, 10],\n",
       "        [10, 10, 10],\n",
       "        [10, 10, 10]],\n",
       "\n",
       "       [[10, 10, 10],\n",
       "        [10, 10, 10],\n",
       "        [10, 10, 10]]])"
      ]
     },
     "execution_count": 14,
     "metadata": {},
     "output_type": "execute_result"
    }
   ],
   "source": [
    "print(a3)\n",
    "np.full_like(a3, 10)"
   ]
  },
  {
   "cell_type": "markdown",
   "id": "4404f73d",
   "metadata": {},
   "source": [
    "##### 생성한 값으로 배열 생성"
   ]
  },
  {
   "cell_type": "code",
   "execution_count": 15,
   "id": "38eee8e6",
   "metadata": {},
   "outputs": [
    {
     "data": {
      "text/plain": [
       "array([ 0,  2,  4,  6,  8, 10, 12, 14, 16, 18, 20, 22, 24, 26, 28])"
      ]
     },
     "execution_count": 15,
     "metadata": {},
     "output_type": "execute_result"
    }
   ],
   "source": [
    "np.arange(0, 30, 2)"
   ]
  },
  {
   "cell_type": "code",
   "execution_count": 16,
   "id": "b6790d51",
   "metadata": {},
   "outputs": [
    {
     "data": {
      "text/plain": [
       "array([0.  , 0.25, 0.5 , 0.75, 1.  ])"
      ]
     },
     "execution_count": 16,
     "metadata": {},
     "output_type": "execute_result"
    }
   ],
   "source": [
    "np.linspace(0, 1, 5)  # 범위 내에서 균등 간격 배열"
   ]
  },
  {
   "cell_type": "code",
   "execution_count": 17,
   "id": "6e24bb52",
   "metadata": {},
   "outputs": [
    {
     "data": {
      "text/plain": [
       "array([ 1.25892541,  1.40400425,  1.565802  ,  1.74624535,  1.94748304,\n",
       "        2.1719114 ,  2.42220294,  2.70133812,  3.0126409 ,  3.35981829,\n",
       "        3.74700446,  4.17881006,  4.66037703,  5.19743987,  5.79639395,\n",
       "        6.46437163,  7.2093272 ,  8.04013161,  8.9666781 , 10.        ])"
      ]
     },
     "execution_count": 17,
     "metadata": {},
     "output_type": "execute_result"
    }
   ],
   "source": [
    "np.logspace(0.1, 1, 20)  # 범위 내에서 균등 간격으로 로그 스케일로 배열"
   ]
  },
  {
   "cell_type": "markdown",
   "id": "d3b2ab16",
   "metadata": {},
   "source": [
    "##### 랜덤값으로 배열 생성"
   ]
  },
  {
   "cell_type": "code",
   "execution_count": 18,
   "id": "ea4af64e",
   "metadata": {},
   "outputs": [
    {
     "data": {
      "text/plain": [
       "array([[0.66223403, 0.36775825, 0.90957026],\n",
       "       [0.26507196, 0.92090899, 0.74002082],\n",
       "       [0.49501448, 0.95383018, 0.48051876]])"
      ]
     },
     "execution_count": 18,
     "metadata": {},
     "output_type": "execute_result"
    }
   ],
   "source": [
    "np.random.random((3, 3))"
   ]
  },
  {
   "cell_type": "code",
   "execution_count": 19,
   "id": "4146fd60",
   "metadata": {},
   "outputs": [
    {
     "data": {
      "text/plain": [
       "array([[7, 6, 5],\n",
       "       [1, 1, 1],\n",
       "       [6, 2, 9]])"
      ]
     },
     "execution_count": 19,
     "metadata": {},
     "output_type": "execute_result"
    }
   ],
   "source": [
    "np.random.randint(0, 10, (3, 3))  # 범위를 지정해주고, 사이즈도 지정, 정수 랜덤"
   ]
  },
  {
   "cell_type": "code",
   "execution_count": 20,
   "id": "1e747b57",
   "metadata": {},
   "outputs": [
    {
     "data": {
      "text/plain": [
       "array([[ 1.05802718,  0.87336263, -0.49507617],\n",
       "       [ 0.71910099, -1.11525769,  1.77303925],\n",
       "       [ 0.09240533, -0.24446086,  0.20358675]])"
      ]
     },
     "execution_count": 20,
     "metadata": {},
     "output_type": "execute_result"
    }
   ],
   "source": [
    "np.random.normal(0, 1, (3, 3))  # 정규분포를 고려한(?) 랜덤한 수의 배열 생성"
   ]
  },
  {
   "cell_type": "code",
   "execution_count": 21,
   "id": "0672234e",
   "metadata": {},
   "outputs": [
    {
     "data": {
      "text/plain": [
       "array([[0.77036679, 0.37052957, 0.59437456],\n",
       "       [0.70688296, 0.81078299, 0.93076051],\n",
       "       [0.57946743, 0.45729792, 0.80120897]])"
      ]
     },
     "execution_count": 21,
     "metadata": {},
     "output_type": "execute_result"
    }
   ],
   "source": [
    "np.random.rand(3, 3)  # 균등 분포를 고려한 랜덤한 수의 배열 생성"
   ]
  },
  {
   "cell_type": "code",
   "execution_count": 22,
   "id": "980de136",
   "metadata": {},
   "outputs": [
    {
     "data": {
      "text/plain": [
       "array([[ 0.16911029, -1.28252273, -0.52377039],\n",
       "       [ 0.90543862,  0.20259169,  0.70240742],\n",
       "       [ 0.96950271, -1.0331306 ,  1.98307643]])"
      ]
     },
     "execution_count": 22,
     "metadata": {},
     "output_type": "execute_result"
    }
   ],
   "source": [
    "np.random.randn(3, 3)  # 표준 정규분포를 고려한 랜덤한 수의 배열 생성"
   ]
  },
  {
   "cell_type": "markdown",
   "id": "3e04ce0e",
   "metadata": {},
   "source": [
    "### 표준 데이터 타입"
   ]
  },
  {
   "cell_type": "code",
   "execution_count": 23,
   "id": "6ae83068",
   "metadata": {},
   "outputs": [
    {
     "data": {
      "text/plain": [
       "array([0, 0, 0, 0, 0, 0, 0, 0, 0, 0, 0, 0, 0, 0, 0, 0, 0, 0, 0, 0])"
      ]
     },
     "execution_count": 23,
     "metadata": {},
     "output_type": "execute_result"
    }
   ],
   "source": [
    "np.zeros(20, dtype = int)"
   ]
  },
  {
   "cell_type": "code",
   "execution_count": 24,
   "id": "eb4327f3",
   "metadata": {},
   "outputs": [
    {
     "data": {
      "text/plain": [
       "array([[ True,  True,  True],\n",
       "       [ True,  True,  True],\n",
       "       [ True,  True,  True]])"
      ]
     },
     "execution_count": 24,
     "metadata": {},
     "output_type": "execute_result"
    }
   ],
   "source": [
    "np.ones((3, 3), dtype = bool)  # 1 또는 0으로 "
   ]
  },
  {
   "cell_type": "code",
   "execution_count": 25,
   "id": "04d5a37c",
   "metadata": {},
   "outputs": [
    {
     "data": {
      "text/plain": [
       "array([[1., 1., 1.],\n",
       "       [1., 1., 1.],\n",
       "       [1., 1., 1.]])"
      ]
     },
     "execution_count": 25,
     "metadata": {},
     "output_type": "execute_result"
    }
   ],
   "source": [
    "np.full((3, 3), 1.0, dtype = float)"
   ]
  },
  {
   "cell_type": "markdown",
   "id": "39835faa",
   "metadata": {},
   "source": [
    "### 날짜/시간 배열 생성"
   ]
  },
  {
   "cell_type": "code",
   "execution_count": 26,
   "id": "dd5212a3",
   "metadata": {},
   "outputs": [
    {
     "data": {
      "text/plain": [
       "array('2022-09-16', dtype='datetime64[D]')"
      ]
     },
     "execution_count": 26,
     "metadata": {},
     "output_type": "execute_result"
    }
   ],
   "source": [
    "date = np.array('2022-09-16', dtype = np.datetime64)\n",
    "date"
   ]
  },
  {
   "cell_type": "code",
   "execution_count": 27,
   "id": "451a09b4",
   "metadata": {},
   "outputs": [
    {
     "data": {
      "text/plain": [
       "array(['2022-09-16', '2022-09-17', '2022-09-18', '2022-09-19',\n",
       "       '2022-09-20', '2022-09-21', '2022-09-22', '2022-09-23',\n",
       "       '2022-09-24', '2022-09-25', '2022-09-26', '2022-09-27'],\n",
       "      dtype='datetime64[D]')"
      ]
     },
     "execution_count": 27,
     "metadata": {},
     "output_type": "execute_result"
    }
   ],
   "source": [
    "date + np.arange(12)"
   ]
  },
  {
   "cell_type": "code",
   "execution_count": 28,
   "id": "2f3595c5",
   "metadata": {},
   "outputs": [
    {
     "data": {
      "text/plain": [
       "numpy.datetime64('2022-09-16T12:00')"
      ]
     },
     "execution_count": 28,
     "metadata": {},
     "output_type": "execute_result"
    }
   ],
   "source": [
    "datetime = np.datetime64('2022-09-16 12:00')\n",
    "datetime"
   ]
  },
  {
   "cell_type": "code",
   "execution_count": 29,
   "id": "d637765d",
   "metadata": {},
   "outputs": [
    {
     "data": {
      "text/plain": [
       "numpy.datetime64('2022-09-16T12:00:12.340000000')"
      ]
     },
     "execution_count": 29,
     "metadata": {},
     "output_type": "execute_result"
    }
   ],
   "source": [
    "datetime = np.datetime64('2022-09-16 12:00:12.34', 'ns')\n",
    "datetime"
   ]
  },
  {
   "cell_type": "code",
   "execution_count": 30,
   "id": "ccf13953",
   "metadata": {},
   "outputs": [
    {
     "name": "stdout",
     "output_type": "stream",
     "text": [
      "2022-09-16T12:00:12.340000000\n"
     ]
    }
   ],
   "source": [
    "print(datetime)"
   ]
  },
  {
   "cell_type": "code",
   "execution_count": 31,
   "id": "9296159d",
   "metadata": {},
   "outputs": [
    {
     "data": {
      "text/plain": [
       "numpy.datetime64"
      ]
     },
     "execution_count": 31,
     "metadata": {},
     "output_type": "execute_result"
    }
   ],
   "source": [
    "type(datetime)"
   ]
  },
  {
   "cell_type": "markdown",
   "id": "ad4e386e",
   "metadata": {},
   "source": [
    "### 배열 조회\n",
    "##### 배열 속성 정보"
   ]
  },
  {
   "cell_type": "code",
   "execution_count": 32,
   "id": "2414cac0",
   "metadata": {},
   "outputs": [],
   "source": [
    "def array_info(array):\n",
    "    print(array)\n",
    "    print(\"ndim:\", array.ndim) # 몇 차원 인가\n",
    "    print(\"shape:\", array.shape)\n",
    "    print(\"dtype:\", array.dtype)\n",
    "    print(\"size:\", array.size)  # 원소 개수\n",
    "    print(\"itemsize:\", array.itemsize) # 각 하나의 아이템이 가지는 사이즈, 4 바이트\n",
    "    print(\"nbytes:\", array.nbytes)\n",
    "    print(\"strides:\", array.strides)  # 다음으로 넘어갈 때의 크기"
   ]
  },
  {
   "cell_type": "code",
   "execution_count": 33,
   "id": "3a0d39bb",
   "metadata": {},
   "outputs": [
    {
     "name": "stdout",
     "output_type": "stream",
     "text": [
      "[4 5 6 4 5]\n",
      "ndim: 1\n",
      "shape: (5,)\n",
      "dtype: int32\n",
      "size: 5\n",
      "itemsize: 4\n",
      "nbytes: 20\n",
      "strides: (4,)\n"
     ]
    }
   ],
   "source": [
    "array_info(a1)"
   ]
  },
  {
   "cell_type": "code",
   "execution_count": 34,
   "id": "ad574216",
   "metadata": {},
   "outputs": [
    {
     "name": "stdout",
     "output_type": "stream",
     "text": [
      "[[1 2 3]\n",
      " [4 5 6]\n",
      " [7 8 9]]\n",
      "ndim: 2\n",
      "shape: (3, 3)\n",
      "dtype: int32\n",
      "size: 9\n",
      "itemsize: 4\n",
      "nbytes: 36\n",
      "strides: (12, 4)\n"
     ]
    }
   ],
   "source": [
    "array_info(a2)"
   ]
  },
  {
   "cell_type": "code",
   "execution_count": 35,
   "id": "ecfd4541",
   "metadata": {},
   "outputs": [
    {
     "name": "stdout",
     "output_type": "stream",
     "text": [
      "[[[1 2 3]\n",
      "  [4 5 6]\n",
      "  [7 8 9]]\n",
      "\n",
      " [[1 2 3]\n",
      "  [4 5 6]\n",
      "  [7 8 9]]\n",
      "\n",
      " [[1 2 3]\n",
      "  [4 5 6]\n",
      "  [7 8 9]]]\n",
      "ndim: 3\n",
      "shape: (3, 3, 3)\n",
      "dtype: int32\n",
      "size: 27\n",
      "itemsize: 4\n",
      "nbytes: 108\n",
      "strides: (36, 12, 4)\n"
     ]
    }
   ],
   "source": [
    "array_info(a3)"
   ]
  },
  {
   "cell_type": "markdown",
   "id": "43fb2fd2",
   "metadata": {},
   "source": [
    "### 인덱싱(indexing)"
   ]
  },
  {
   "cell_type": "code",
   "execution_count": 36,
   "id": "d4792e0b",
   "metadata": {},
   "outputs": [
    {
     "name": "stdout",
     "output_type": "stream",
     "text": [
      "[4 5 6 4 5]\n",
      "4\n",
      "6\n",
      "5\n",
      "4\n"
     ]
    }
   ],
   "source": [
    "print(a1)\n",
    "print(a1[0])\n",
    "print(a1[2])\n",
    "print(a1[-1])\n",
    "print(a1[-2])"
   ]
  },
  {
   "cell_type": "code",
   "execution_count": 37,
   "id": "e999562d",
   "metadata": {},
   "outputs": [
    {
     "name": "stdout",
     "output_type": "stream",
     "text": [
      "[[1 2 3]\n",
      " [4 5 6]\n",
      " [7 8 9]]\n",
      "1\n",
      "3\n",
      "5\n",
      "9\n"
     ]
    }
   ],
   "source": [
    "print(a2)\n",
    "print(a2[0, 0])\n",
    "print(a2[0, 2])\n",
    "print(a2[1, 1])\n",
    "print(a2[2, -1])   # [행, 열]"
   ]
  },
  {
   "cell_type": "code",
   "execution_count": 38,
   "id": "b8b29aef",
   "metadata": {},
   "outputs": [
    {
     "name": "stdout",
     "output_type": "stream",
     "text": [
      "[[[1 2 3]\n",
      "  [4 5 6]\n",
      "  [7 8 9]]\n",
      "\n",
      " [[1 2 3]\n",
      "  [4 5 6]\n",
      "  [7 8 9]]\n",
      "\n",
      " [[1 2 3]\n",
      "  [4 5 6]\n",
      "  [7 8 9]]]\n",
      "1\n",
      "5\n",
      "9\n",
      "9\n"
     ]
    }
   ],
   "source": [
    "print(a3)\n",
    "print(a3[0, 0, 0])\n",
    "print(a3[1, 1, 1])\n",
    "print(a3[2, 2, 2])\n",
    "print(a3[2, -1, -1])"
   ]
  },
  {
   "cell_type": "markdown",
   "id": "09359300",
   "metadata": {},
   "source": [
    "### 슬라이싱"
   ]
  },
  {
   "cell_type": "code",
   "execution_count": 39,
   "id": "c9ea886f",
   "metadata": {},
   "outputs": [
    {
     "name": "stdout",
     "output_type": "stream",
     "text": [
      "[4 5 6 4 5]\n",
      "[4 5]\n",
      "[4 5 6 4 5]\n",
      "[4]\n",
      "[4 6 5]\n",
      "[5 4 6 5 4]\n"
     ]
    }
   ],
   "source": [
    "print(a1)\n",
    "print(a1[0:2])\n",
    "print(a1[0:])\n",
    "print(a1[:1])\n",
    "print(a1[::2])\n",
    "print(a1[::-1])  # step이 -1이면 뒤에서부터 역으로 출력"
   ]
  },
  {
   "cell_type": "code",
   "execution_count": 40,
   "id": "43d03c3b",
   "metadata": {},
   "outputs": [
    {
     "name": "stdout",
     "output_type": "stream",
     "text": [
      "[[1 2 3]\n",
      " [4 5 6]\n",
      " [7 8 9]]\n",
      "[4 5 6]\n",
      "[4 5 6]\n",
      "[[1 2]\n",
      " [4 5]]\n",
      "[[6 5 4]\n",
      " [9 8 7]]\n",
      "[[9 8 7]\n",
      " [6 5 4]\n",
      " [3 2 1]]\n"
     ]
    }
   ],
   "source": [
    "print(a2)\n",
    "print(a2[1])\n",
    "print(a2[1, :])\n",
    "print(a2[:2, :2])\n",
    "print(a2[1:, ::-1])\n",
    "print(a2[::-1, ::-1])"
   ]
  },
  {
   "cell_type": "markdown",
   "id": "caf7d99f",
   "metadata": {},
   "source": [
    "### 불리언 인덱싱"
   ]
  },
  {
   "cell_type": "code",
   "execution_count": 41,
   "id": "c9085f9b",
   "metadata": {},
   "outputs": [
    {
     "name": "stdout",
     "output_type": "stream",
     "text": [
      "[4 5 6 4 5]\n",
      "[5 6 5]\n",
      "[4 6 4]\n"
     ]
    }
   ],
   "source": [
    "print(a1)\n",
    "bi = [False, True, True, False, True]\n",
    "print(a1[bi])\n",
    "bi = [True, False, True, True, False]\n",
    "print(a1[bi])"
   ]
  },
  {
   "cell_type": "code",
   "execution_count": 42,
   "id": "769f9434",
   "metadata": {},
   "outputs": [
    {
     "name": "stdout",
     "output_type": "stream",
     "text": [
      "[[1 2 3]\n",
      " [4 5 6]\n",
      " [7 8 9]]\n",
      "[[False False  True]\n",
      " [ True False False]\n",
      " [ True  True  True]]\n",
      "[3 4 7 8 9]\n"
     ]
    }
   ],
   "source": [
    "print(a2)\n",
    "bi = np.random.randint(0, 2, (3,3), dtype = bool)\n",
    "print(bi)\n",
    "print(a2[bi])"
   ]
  },
  {
   "cell_type": "markdown",
   "id": "9b4877ae",
   "metadata": {},
   "source": [
    "### 팬시 인덱싱"
   ]
  },
  {
   "cell_type": "code",
   "execution_count": 43,
   "id": "a8dd7667",
   "metadata": {},
   "outputs": [
    {
     "name": "stdout",
     "output_type": "stream",
     "text": [
      "[4 5 6 4 5]\n",
      "4 6\n",
      "[4 6]\n",
      "[[4 5]\n",
      " [6 4]]\n"
     ]
    }
   ],
   "source": [
    "print(a1)\n",
    "print(a1[0], a1[2])\n",
    "ind = [0, 2]\n",
    "print(a1[ind])\n",
    "ind = np.array([[0, 1],[2, 0]])\n",
    "print(a1[ind])"
   ]
  },
  {
   "cell_type": "code",
   "execution_count": 44,
   "id": "1e4daabb",
   "metadata": {},
   "outputs": [
    {
     "name": "stdout",
     "output_type": "stream",
     "text": [
      "[[1 2 3]\n",
      " [4 5 6]\n",
      " [7 8 9]]\n",
      "[2 9]\n",
      "[[1 2 3]\n",
      " [7 8 9]]\n",
      "[[2 3]\n",
      " [5 6]\n",
      " [8 9]]\n",
      "[2 8]\n",
      "[8 9]\n",
      "[[2 3]\n",
      " [8 9]]\n",
      "[[5 6]\n",
      " [8 9]]\n"
     ]
    }
   ],
   "source": [
    "print(a2)\n",
    "row = np.array([0, 2])\n",
    "col = np.array([1, 2])\n",
    "print(a2[row, col])\n",
    "print(a2[row, :])\n",
    "print(a2[:, col])\n",
    "print(a2[row, 1])\n",
    "print(a2[2, col])\n",
    "print(a2[row, 1:])\n",
    "print(a2[1:, col])"
   ]
  },
  {
   "cell_type": "markdown",
   "id": "59b0bb88",
   "metadata": {},
   "source": [
    "### 배열 값 삽입/수정/ 삭제/복사\n",
    "\n",
    "##### 배열 값 삽입"
   ]
  },
  {
   "cell_type": "code",
   "execution_count": 45,
   "id": "18874bdc",
   "metadata": {},
   "outputs": [
    {
     "name": "stdout",
     "output_type": "stream",
     "text": [
      "[4 5 6 4 5]\n"
     ]
    }
   ],
   "source": [
    "print(a1)"
   ]
  },
  {
   "cell_type": "code",
   "execution_count": 46,
   "id": "f0707a44",
   "metadata": {},
   "outputs": [
    {
     "name": "stdout",
     "output_type": "stream",
     "text": [
      "[10  4  5  6  4  5]\n"
     ]
    }
   ],
   "source": [
    "b1 = np.insert(a1, 0, 10)\n",
    "print(b1)"
   ]
  },
  {
   "cell_type": "code",
   "execution_count": 47,
   "id": "223d6365",
   "metadata": {},
   "outputs": [
    {
     "name": "stdout",
     "output_type": "stream",
     "text": [
      "[4 5 6 4 5]\n"
     ]
    }
   ],
   "source": [
    "print(a1)  # a1은 값이 바뀌지 않았다."
   ]
  },
  {
   "cell_type": "code",
   "execution_count": 48,
   "id": "29cce89a",
   "metadata": {},
   "outputs": [
    {
     "name": "stdout",
     "output_type": "stream",
     "text": [
      "[ 4  5 10  6  4  5]\n"
     ]
    }
   ],
   "source": [
    "c1 = np.insert(a1, 2, 10)\n",
    "print(c1)"
   ]
  },
  {
   "cell_type": "code",
   "execution_count": 49,
   "id": "d8346dca",
   "metadata": {},
   "outputs": [
    {
     "name": "stdout",
     "output_type": "stream",
     "text": [
      "[4 5 6 4 5]\n"
     ]
    }
   ],
   "source": [
    "print(a1)"
   ]
  },
  {
   "cell_type": "code",
   "execution_count": 50,
   "id": "1f48c1f7",
   "metadata": {},
   "outputs": [
    {
     "name": "stdout",
     "output_type": "stream",
     "text": [
      "[[1 2 3]\n",
      " [4 5 6]\n",
      " [7 8 9]]\n",
      "[[ 1  2  3]\n",
      " [10 10 10]\n",
      " [ 4  5  6]\n",
      " [ 7  8  9]]\n",
      "[[ 1 10  2  3]\n",
      " [ 4 10  5  6]\n",
      " [ 7 10  8  9]]\n"
     ]
    }
   ],
   "source": [
    "print(a2)\n",
    "b2 = np.insert(a2, 1, 10, axis = 0)   # 행 방향으로 삽입\n",
    "print(b2)\n",
    "c2 = np.insert(a2, 1, 10, axis = 1)   # 열 방향으로 삽입\n",
    "print(c2)"
   ]
  },
  {
   "cell_type": "markdown",
   "id": "b3d93057",
   "metadata": {},
   "source": [
    "##### 배열 값 수정"
   ]
  },
  {
   "cell_type": "code",
   "execution_count": 51,
   "id": "5000637a",
   "metadata": {},
   "outputs": [
    {
     "name": "stdout",
     "output_type": "stream",
     "text": [
      "[4 5 6 4 5]\n",
      "[1 2 3 4 5]\n"
     ]
    }
   ],
   "source": [
    "print(a1)\n",
    "a1[0] = 1\n",
    "a1[1] = 2\n",
    "a1[2] = 3\n",
    "print(a1)"
   ]
  },
  {
   "cell_type": "code",
   "execution_count": 52,
   "id": "857ab528",
   "metadata": {},
   "outputs": [
    {
     "name": "stdout",
     "output_type": "stream",
     "text": [
      "[9 2 3 4 5]\n"
     ]
    }
   ],
   "source": [
    "a1[:1] = 9\n",
    "print(a1)"
   ]
  },
  {
   "cell_type": "code",
   "execution_count": 53,
   "id": "68d03c50",
   "metadata": {},
   "outputs": [
    {
     "name": "stdout",
     "output_type": "stream",
     "text": [
      "[9 0 3 0 0]\n"
     ]
    }
   ],
   "source": [
    "i = np.array([1, 3, 4])\n",
    "a1[i] = 0\n",
    "print(a1)"
   ]
  },
  {
   "cell_type": "code",
   "execution_count": 54,
   "id": "0c5b9e3c",
   "metadata": {},
   "outputs": [
    {
     "name": "stdout",
     "output_type": "stream",
     "text": [
      "[9 4 3 4 4]\n"
     ]
    }
   ],
   "source": [
    "a1[i] += 4\n",
    "print(a1)"
   ]
  },
  {
   "cell_type": "code",
   "execution_count": 55,
   "id": "46865840",
   "metadata": {},
   "outputs": [
    {
     "name": "stdout",
     "output_type": "stream",
     "text": [
      "[[1 2 3]\n",
      " [4 5 6]\n",
      " [7 8 9]]\n",
      "[[1 1 1]\n",
      " [4 2 6]\n",
      " [7 8 3]]\n"
     ]
    }
   ],
   "source": [
    "print(a2)\n",
    "a2[0, 0] = 1\n",
    "a2[1, 1] = 2\n",
    "a2[2, 2] = 3\n",
    "a2[0] = 1  # 2차원 배열에서 인덱스 하나만 지정하면 전체 행에 대해서 수정이 된다.\n",
    "print(a2)"
   ]
  },
  {
   "cell_type": "code",
   "execution_count": 56,
   "id": "309762ff",
   "metadata": {},
   "outputs": [
    {
     "name": "stdout",
     "output_type": "stream",
     "text": [
      "[[1 1 1]\n",
      " [4 2 9]\n",
      " [7 8 9]]\n",
      "[[1 0 1]\n",
      " [4 2 0]\n",
      " [7 8 9]]\n"
     ]
    }
   ],
   "source": [
    "a2[1:, 2] = 9\n",
    "print(a2)\n",
    "\n",
    "row = np.array([0, 1])\n",
    "col = np.array([1, 2])\n",
    "a2[row, col] = 0\n",
    "print(a2)"
   ]
  },
  {
   "cell_type": "markdown",
   "id": "64f6643c",
   "metadata": {},
   "source": [
    "##### 배열 값 삭제"
   ]
  },
  {
   "cell_type": "code",
   "execution_count": 57,
   "id": "69974ec8",
   "metadata": {},
   "outputs": [
    {
     "name": "stdout",
     "output_type": "stream",
     "text": [
      "[9 4 3 4 4]\n",
      "[9 3 4 4]\n",
      "[9 4 3 4 4]\n"
     ]
    }
   ],
   "source": [
    "print(a1)\n",
    "b1 = np.delete(a1, 1)\n",
    "print(b1)\n",
    "print(a1)  # 이것도 원본 배열이 변경 X"
   ]
  },
  {
   "cell_type": "code",
   "execution_count": 58,
   "id": "974997e3",
   "metadata": {},
   "outputs": [
    {
     "name": "stdout",
     "output_type": "stream",
     "text": [
      "[[1 0 1]\n",
      " [4 2 0]\n",
      " [7 8 9]]\n",
      "[[1 0 1]\n",
      " [7 8 9]]\n",
      "[[1 1]\n",
      " [4 0]\n",
      " [7 9]]\n"
     ]
    }
   ],
   "source": [
    "print(a2)\n",
    "b2 = np.delete(a2, 1, axis = 0)  # axis = 0 : 인덱스 1 행 삭제\n",
    "print(b2)\n",
    "c2 = np.delete(a2, 1, axis = 1)\n",
    "print(c2)"
   ]
  },
  {
   "cell_type": "markdown",
   "id": "05ac5daf",
   "metadata": {},
   "source": [
    "##### 배열 복사\n",
    "- 리스트 자료형과 달리 배열의 슬라이스는 복사본이 아님"
   ]
  },
  {
   "cell_type": "code",
   "execution_count": 59,
   "id": "e99bbae6",
   "metadata": {},
   "outputs": [
    {
     "name": "stdout",
     "output_type": "stream",
     "text": [
      "[[1 0 1]\n",
      " [4 2 0]\n",
      " [7 8 9]]\n",
      "[[1 0]\n",
      " [4 2]]\n",
      "[[1 0]\n",
      " [4 2]]\n",
      "[[1 0]\n",
      " [4 0]]\n",
      "[[1 0 1]\n",
      " [4 0 0]\n",
      " [7 8 9]]\n"
     ]
    }
   ],
   "source": [
    "print(a2)\n",
    "print(a2[:2, :2])\n",
    "a2_sub = a2[:2, :2]\n",
    "print(a2_sub)\n",
    "a2_sub[:, 1] = 0\n",
    "print(a2_sub)\n",
    "print(a2)   # 슬라이싱 해서 받아온 배열은 원본 배열에 영향을 준다. 메모리 위치가 동일하다."
   ]
  },
  {
   "cell_type": "code",
   "execution_count": 60,
   "id": "a626bc55",
   "metadata": {},
   "outputs": [
    {
     "name": "stdout",
     "output_type": "stream",
     "text": [
      "[[1 0 1]\n",
      " [4 0 0]\n",
      " [7 8 9]]\n",
      "[[1 0]\n",
      " [4 0]]\n",
      "[[1 1]\n",
      " [4 1]]\n",
      "[[1 0 1]\n",
      " [4 0 0]\n",
      " [7 8 9]]\n"
     ]
    }
   ],
   "source": [
    "print(a2)\n",
    "a2_sub_copy = a2[:2, :2].copy()\n",
    "print(a2_sub_copy)\n",
    "a2_sub_copy[:, 1] = 1\n",
    "print(a2_sub_copy)\n",
    "print(a2)       # copy 함수를 쓰면 원본 영향 X"
   ]
  },
  {
   "cell_type": "markdown",
   "id": "2be7964f",
   "metadata": {},
   "source": [
    "### 배열 변환\n",
    "##### 배열 전치 및 축 변환"
   ]
  },
  {
   "cell_type": "code",
   "execution_count": 61,
   "id": "eb700a81",
   "metadata": {},
   "outputs": [
    {
     "name": "stdout",
     "output_type": "stream",
     "text": [
      "[[1 0 1]\n",
      " [4 0 0]\n",
      " [7 8 9]]\n",
      "[[1 4 7]\n",
      " [0 0 8]\n",
      " [1 0 9]]\n"
     ]
    }
   ],
   "source": [
    "print(a2)\n",
    "print(a2.T)"
   ]
  },
  {
   "cell_type": "code",
   "execution_count": 62,
   "id": "1f2baa01",
   "metadata": {},
   "outputs": [
    {
     "name": "stdout",
     "output_type": "stream",
     "text": [
      "[[[1 2 3]\n",
      "  [4 5 6]\n",
      "  [7 8 9]]\n",
      "\n",
      " [[1 2 3]\n",
      "  [4 5 6]\n",
      "  [7 8 9]]\n",
      "\n",
      " [[1 2 3]\n",
      "  [4 5 6]\n",
      "  [7 8 9]]]\n",
      "[[[1 1 1]\n",
      "  [4 4 4]\n",
      "  [7 7 7]]\n",
      "\n",
      " [[2 2 2]\n",
      "  [5 5 5]\n",
      "  [8 8 8]]\n",
      "\n",
      " [[3 3 3]\n",
      "  [6 6 6]\n",
      "  [9 9 9]]]\n"
     ]
    }
   ],
   "source": [
    "print(a3)\n",
    "print(a3.T)"
   ]
  },
  {
   "cell_type": "code",
   "execution_count": 63,
   "id": "ee7204e1",
   "metadata": {},
   "outputs": [
    {
     "name": "stdout",
     "output_type": "stream",
     "text": [
      "[[1 0 1]\n",
      " [4 0 0]\n",
      " [7 8 9]]\n",
      "[[1 4 7]\n",
      " [0 0 8]\n",
      " [1 0 9]]\n"
     ]
    }
   ],
   "source": [
    "print(a2)\n",
    "print(a2.swapaxes(1,0))"
   ]
  },
  {
   "cell_type": "code",
   "execution_count": 64,
   "id": "aa87d32d",
   "metadata": {},
   "outputs": [
    {
     "name": "stdout",
     "output_type": "stream",
     "text": [
      "[[[1 2 3]\n",
      "  [4 5 6]\n",
      "  [7 8 9]]\n",
      "\n",
      " [[1 2 3]\n",
      "  [4 5 6]\n",
      "  [7 8 9]]\n",
      "\n",
      " [[1 2 3]\n",
      "  [4 5 6]\n",
      "  [7 8 9]]]\n",
      "[[[1 2 3]\n",
      "  [1 2 3]\n",
      "  [1 2 3]]\n",
      "\n",
      " [[4 5 6]\n",
      "  [4 5 6]\n",
      "  [4 5 6]]\n",
      "\n",
      " [[7 8 9]\n",
      "  [7 8 9]\n",
      "  [7 8 9]]]\n",
      "[[[1 4 7]\n",
      "  [2 5 8]\n",
      "  [3 6 9]]\n",
      "\n",
      " [[1 4 7]\n",
      "  [2 5 8]\n",
      "  [3 6 9]]\n",
      "\n",
      " [[1 4 7]\n",
      "  [2 5 8]\n",
      "  [3 6 9]]]\n"
     ]
    }
   ],
   "source": [
    "print(a3)\n",
    "print(a3.swapaxes(0, 1))\n",
    "print(a3.swapaxes(1, 2))    # 이 부분 잘 이해 안감"
   ]
  },
  {
   "cell_type": "markdown",
   "id": "c27ca301",
   "metadata": {},
   "source": [
    "### 배열 재구조화"
   ]
  },
  {
   "cell_type": "code",
   "execution_count": 66,
   "id": "907e3dcb",
   "metadata": {},
   "outputs": [
    {
     "name": "stdout",
     "output_type": "stream",
     "text": [
      "[1 2 3 4 5 6 7 8 9]\n",
      "[[1 2 3]\n",
      " [4 5 6]\n",
      " [7 8 9]]\n"
     ]
    }
   ],
   "source": [
    "n1 = np.arange(1,10)\n",
    "print(n1)\n",
    "print(n1.reshape(3, 3))"
   ]
  },
  {
   "cell_type": "code",
   "execution_count": 67,
   "id": "e67e0d78",
   "metadata": {},
   "outputs": [
    {
     "name": "stdout",
     "output_type": "stream",
     "text": [
      "[1 2 3 4 5 6 7 8 9]\n",
      "[[1 2 3 4 5]]\n",
      "[[1]\n",
      " [2]\n",
      " [3]\n",
      " [4]\n",
      " [5]]\n"
     ]
    }
   ],
   "source": [
    "print(n1)\n",
    "print(n1[np.newaxis, :5])\n",
    "print(n1[:5, np.newaxis])"
   ]
  },
  {
   "cell_type": "markdown",
   "id": "31ae4334",
   "metadata": {},
   "source": [
    "### 배열 크기 변경"
   ]
  },
  {
   "cell_type": "code",
   "execution_count": null,
   "id": "88f9c895",
   "metadata": {},
   "outputs": [],
   "source": [
    "n2 = np.random.randint(0, 10)  # 1:06 ~"
   ]
  }
 ],
 "metadata": {
  "kernelspec": {
   "display_name": "Python 3 (ipykernel)",
   "language": "python",
   "name": "python3"
  },
  "language_info": {
   "codemirror_mode": {
    "name": "ipython",
    "version": 3
   },
   "file_extension": ".py",
   "mimetype": "text/x-python",
   "name": "python",
   "nbconvert_exporter": "python",
   "pygments_lexer": "ipython3",
   "version": "3.9.7"
  }
 },
 "nbformat": 4,
 "nbformat_minor": 5
}
