{
 "cells": [
  {
   "cell_type": "markdown",
   "id": "3d925c12",
   "metadata": {},
   "source": [
    "#### 이론 1\n",
    "아래의 선지들 중 알맞은 것을 모두 고르시오.\n",
    "\n",
    "1. 파이썬 2.7 버전을 제외하고 input을 사용하면 입력되는 모든 것이 문자열로 취급된다. \n",
    "\n",
    "2. 파이썬 3에서의 정수 나눗셈의 결과는 항상 실수형이다.\n",
    "\n",
    "3. 파이썬의 특징으로는 플랫폼 독립적, 자바로 처음 구현, 객체 지향적, 인터프리터 언어 사용, 동적 타이핑 언어라는 점이 있다.\n",
    "\n",
    "4. 파이썬에서 처리할 수 있는 기본 자료형에는 integer, float, var, string, boolean 등이 있다. \n",
    "\n",
    "5. 여러 번 사용되는 코드를 함수로 구현하면 효율적이다.\n",
    "\n",
    "6. 함수 내에서 이름이 다른 함수 혹은 같은 함수를 호출할 수 있다. \n",
    "\n",
    "7. 집합은 집합 내 원소의 중복을 허용하지 않는다.\n",
    "\n",
    "8. 두 집합 a, b의 교집합과 합집합은 and/or 논리 연산자를 통해 표현할 수 있다.\n",
    "\n",
    "9.  집합 간의 합집합, 차집합은 +, - 연산으로 구할 수 있다.\n",
    "\n",
    "10. _1234, sejong_KING, INTEGER, 1SAI, maximum은 모두 파이썬 변수로 사용이 가능하다."
   ]
  },
  {
   "cell_type": "markdown",
   "id": "57ebd469",
   "metadata": {},
   "source": [
    "[답안]\n",
    "1. O : 파이썬 2.7 버전의 경우 input 대신 raw_input 사용\n",
    "2. O\n",
    "3. X : 자바로 처음 구현 X\n",
    "4. X : var 자료형 X\n",
    "5. O\n",
    "6. O\n",
    "7. O\n",
    "8. O\n",
    "9. X : 합집합 + X\n",
    "10. X : 1SAI X, 변수명은 숫자로 시작할 수 없다."
   ]
  },
  {
   "cell_type": "markdown",
   "id": "d4c4aab6",
   "metadata": {},
   "source": [
    "#### 이론 2\n",
    "다음은 철수가 푼 과제문제지이다.\n",
    "\n",
    "철수가 문제를 맞히면 3점을 얻고 틀리면 1점이 깎인다.\n",
    "\n",
    "아래 문제지를 보고 철수의 과제 점수를 구하여라.\n",
    "\n",
    "\n",
    "1. for문에서 while True와 같은 효과를 내는 방법은 없다. (X)\n",
    "\n",
    "2. def max(a,b): max=1 if a>b: max=a else: max=b return max 은 내장함수 max와 같은 기능을 한다 (O)\n",
    "\n",
    "3. try except는 오류 상황에서 추가 동작을 지시할 수 있다. (x)\n",
    "\n",
    "4. 파이썬3는 파이썬2와 달리 9/3을 계산해도 float형으로 출력되지 않는다.(O)\n",
    "\n",
    "5. 변수명으로 사용하기에 (num_1, sai_02, sa1, sai 2, 0SAI, int)가 모두 적절하다. (X)"
   ]
  },
  {
   "cell_type": "markdown",
   "id": "8f4a5a01",
   "metadata": {},
   "source": [
    "[답안]\n",
    "1. 초깃값, 조건식, 변화식을 모두 생략하면 무한 루프  +3\n",
    "2. +3\n",
    "3. 지시 할 수 있다. -1\n",
    "4. 파이썬3에서의 정수 나눗셈 결과는 항상 실수형이다. -1\n",
    "5. 띄어쓰기 불가, 숫자로 시작 불가, 예약어 사용 불가 +3\n",
    "\n",
    "총점 : 7"
   ]
  },
  {
   "cell_type": "markdown",
   "id": "24ba3023",
   "metadata": {},
   "source": [
    "#### 실습 1\n",
    "길이가 4인 배열 a 내의 두 수를 선택하였을 때, 최대공약수의 최댓값과 최소공배수의 최솟값을 구하세요.\n",
    "\n",
    "- 함수를 사용할 것\n",
    "- 나머지 연산자와 몫 연산자를 사용할 것 (%, //)ㅡ\n",
    "- math 모듈의 gcd / lcm 함수를 사용하지 말 것"
   ]
  },
  {
   "cell_type": "code",
   "execution_count": null,
   "id": "e2fe6f47",
   "metadata": {},
   "outputs": [],
   "source": [
    "# 아래의 코드를 추가하면 됩니다.\n",
    "\n",
    "a = list(map(int, input().split()[:4])) # Input: 1 2 3 4 -> a = [1, 2, 3, 4] / 배열의 길이는 4로 고정입니다.\n",
    "\n",
    "max_, min_ = 0, 10**9 # 배열 내 두 수의 최소공배수는 10**9을 넘지 않습니다.\n",
    "\n",
    "def get_gcd(a, b): # 최소 공배수\n",
    "    r = 0\n",
    "    while(True):\n",
    "        r = a % b\n",
    "        if r == 0:\n",
    "            break\n",
    "        a = b\n",
    "        b = r\n",
    "        \n",
    "    return b\n",
    "\n",
    "def get_lcm(a, b, g): # 최대 공약수\n",
    "    return a*b//g    # 두 수 A, B의 최대공약수를 G, 최소 공배수를 L이라고 하면\n",
    "                        # A * B = G * L이다!\n",
    "\n",
    "\n",
    "for i in a:\n",
    "     for j in a:\n",
    "        if i != j:\n",
    "            g = get_gcd(i, j)\n",
    "            l = get_lcm(i, j, g)\n",
    "            if g > max_:\n",
    "                max_ = g\n",
    "            if l < min_:\n",
    "                min_ = l\n",
    "        \n",
    "print(max_, min_)"
   ]
  },
  {
   "cell_type": "markdown",
   "id": "901478b8",
   "metadata": {},
   "source": [
    "#### 실습 2\n",
    "어떤 프로그램은 데이터를 입력받을 수 있습니다.\n",
    "\n",
    "입력받은 데이터 안에서 제일 긴 수는 몇 자리 수인지 알고 싶습니다.\n",
    "\n",
    "어떤 프로그램일지 20줄 이내로 코딩해보세요"
   ]
  },
  {
   "cell_type": "code",
   "execution_count": null,
   "id": "907b7d3d",
   "metadata": {},
   "outputs": [],
   "source": [
    "str_ = input()\n",
    "cnt = 0\n",
    "max = 0\n",
    "for c in str_:\n",
    "    if c>'0' and c<'9':\n",
    "        cnt+=1\n",
    "    else:\n",
    "        if cnt>max:\n",
    "            max = cnt\n",
    "        cnt = 0\n",
    "print(max)"
   ]
  }
 ],
 "metadata": {
  "kernelspec": {
   "display_name": "Python 3 (ipykernel)",
   "language": "python",
   "name": "python3"
  },
  "language_info": {
   "codemirror_mode": {
    "name": "ipython",
    "version": 3
   },
   "file_extension": ".py",
   "mimetype": "text/x-python",
   "name": "python",
   "nbconvert_exporter": "python",
   "pygments_lexer": "ipython3",
   "version": "3.9.7"
  }
 },
 "nbformat": 4,
 "nbformat_minor": 5
}
