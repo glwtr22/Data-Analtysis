{
 "cells": [
  {
   "cell_type": "code",
   "execution_count": 17,
   "id": "6c7319df",
   "metadata": {},
   "outputs": [],
   "source": [
    "import pandas as pd\n",
    "import numpy as np\n",
    "\n",
    "df = pd.DataFrame({'ID':[20190103, 20190222, 20190531],\n",
    "                             'name':['Kim', 'Lee', 'Jeong'],\n",
    "                             'class':['H', 'W', 'S']})\n",
    "sr = pd.Series({'ID':19011675, 'name':'Jo','class':'J'})"
   ]
  },
  {
   "cell_type": "code",
   "execution_count": 14,
   "id": "b30f572f",
   "metadata": {},
   "outputs": [
    {
     "name": "stdout",
     "output_type": "stream",
     "text": [
      "         ID   name class\n",
      "0  20190103    Kim     H\n",
      "1  20190222    Lee     W\n",
      "2  20190531  Jeong     S\n"
     ]
    }
   ],
   "source": [
    "print(df)"
   ]
  },
  {
   "cell_type": "code",
   "execution_count": 18,
   "id": "08bd901a",
   "metadata": {},
   "outputs": [
    {
     "name": "stdout",
     "output_type": "stream",
     "text": [
      "ID       19011675\n",
      "name           Jo\n",
      "class           J\n",
      "dtype: object\n"
     ]
    }
   ],
   "source": [
    "print(sr)"
   ]
  },
  {
   "cell_type": "code",
   "execution_count": 19,
   "id": "12a212b3",
   "metadata": {},
   "outputs": [],
   "source": [
    "add_data = df.add(sr, axis = 1)"
   ]
  },
  {
   "cell_type": "code",
   "execution_count": 20,
   "id": "66faaa72",
   "metadata": {},
   "outputs": [
    {
     "name": "stdout",
     "output_type": "stream",
     "text": [
      "         ID     name class\n",
      "0  39201778    KimJo    HJ\n",
      "1  39201897    LeeJo    WJ\n",
      "2  39202206  JeongJo    SJ\n"
     ]
    }
   ],
   "source": [
    "print(add_data)"
   ]
  },
  {
   "cell_type": "code",
   "execution_count": 29,
   "id": "74a18d7f",
   "metadata": {},
   "outputs": [
    {
     "name": "stdout",
     "output_type": "stream",
     "text": [
      "         ID   name class\n",
      "0  20190103    Kim     H\n",
      "1  20190222    Lee     W\n",
      "2  20190531  Jeong     S\n",
      "         ID name\n",
      "0  20190103  Kim\n",
      "1  20190222  Lee\n"
     ]
    }
   ],
   "source": [
    "df = pd.DataFrame({'ID':[20190103, 20190222, 20190531],\n",
    "                             'name':['Kim', 'Lee', 'Jeong'],\n",
    "                             'class':['H', 'W', 'S']})\n",
    "print(df)\n",
    "print(df.iloc[:2, :2])"
   ]
  },
  {
   "cell_type": "code",
   "execution_count": 43,
   "id": "e0931d0e",
   "metadata": {},
   "outputs": [],
   "source": [
    "sr1 = pd.Series({'ID':19011675, 'name':'Jo','class':'J'})\n",
    "sr2 = pd.Series({'ID':18080808080, 'name':'Hyun','class':'P', 'trial' : 0})"
   ]
  },
  {
   "cell_type": "code",
   "execution_count": 44,
   "id": "98bc2e8f",
   "metadata": {},
   "outputs": [
    {
     "name": "stdout",
     "output_type": "stream",
     "text": [
      "ID       19011675\n",
      "name           Jo\n",
      "class           J\n",
      "dtype: object\n"
     ]
    }
   ],
   "source": [
    "print(sr1)"
   ]
  },
  {
   "cell_type": "code",
   "execution_count": 45,
   "id": "c4efc9fe",
   "metadata": {},
   "outputs": [
    {
     "name": "stdout",
     "output_type": "stream",
     "text": [
      "ID       18080808080\n",
      "name            Hyun\n",
      "class              P\n",
      "trial              0\n",
      "dtype: object\n"
     ]
    }
   ],
   "source": [
    "print(sr2)"
   ]
  },
  {
   "cell_type": "code",
   "execution_count": 46,
   "id": "39eb3e0c",
   "metadata": {},
   "outputs": [],
   "source": [
    "sradd = sr1.add(sr2)"
   ]
  },
  {
   "cell_type": "code",
   "execution_count": 47,
   "id": "e252e285",
   "metadata": {},
   "outputs": [
    {
     "name": "stdout",
     "output_type": "stream",
     "text": [
      "ID       18099819755\n",
      "class             JP\n",
      "name          JoHyun\n",
      "trial            NaN\n",
      "dtype: object\n"
     ]
    }
   ],
   "source": [
    "print(sradd)"
   ]
  },
  {
   "cell_type": "code",
   "execution_count": 48,
   "id": "57445abc",
   "metadata": {},
   "outputs": [
    {
     "name": "stdout",
     "output_type": "stream",
     "text": [
      "[[1 2 3]\n",
      " [4 5 6]]\n"
     ]
    }
   ],
   "source": [
    "import numpy as np\n",
    "import pandas as pd\n",
    "\n",
    "arr = np.array([[1, 2,3], [4,5,6]])\n",
    "print(arr)"
   ]
  },
  {
   "cell_type": "code",
   "execution_count": 49,
   "id": "e153717d",
   "metadata": {},
   "outputs": [],
   "source": [
    "arr[[0,1],:]=arr[[1,0],:]"
   ]
  },
  {
   "cell_type": "code",
   "execution_count": 50,
   "id": "baad54b8",
   "metadata": {},
   "outputs": [
    {
     "name": "stdout",
     "output_type": "stream",
     "text": [
      "[[4 5 6]\n",
      " [1 2 3]]\n"
     ]
    }
   ],
   "source": [
    "print(arr)"
   ]
  },
  {
   "cell_type": "code",
   "execution_count": 70,
   "id": "c81de26a",
   "metadata": {},
   "outputs": [
    {
     "name": "stdout",
     "output_type": "stream",
     "text": [
      "    name  age        job\n",
      "0   John   20    student\n",
      "1  Jenny   30  developer\n",
      "2   Nate   30    teacher\n"
     ]
    }
   ],
   "source": [
    "import pandas as pd\n",
    "\n",
    "friend_list = [\n",
    "['name',['John', 'Jenny', 'Nate']],\n",
    "['age', [20,30,30]],\n",
    "['job',['student', 'developer', 'teacher']]\n",
    "] \n",
    "\n",
    "df = pd.DataFrame.from_dict(dict(friend_list))\n",
    "\n",
    "print(df)"
   ]
  },
  {
   "cell_type": "code",
   "execution_count": 76,
   "id": "1c0c36e8",
   "metadata": {},
   "outputs": [
    {
     "data": {
      "text/html": [
       "<div>\n",
       "<style scoped>\n",
       "    .dataframe tbody tr th:only-of-type {\n",
       "        vertical-align: middle;\n",
       "    }\n",
       "\n",
       "    .dataframe tbody tr th {\n",
       "        vertical-align: top;\n",
       "    }\n",
       "\n",
       "    .dataframe thead th {\n",
       "        text-align: right;\n",
       "    }\n",
       "</style>\n",
       "<table border=\"1\" class=\"dataframe\">\n",
       "  <thead>\n",
       "    <tr style=\"text-align: right;\">\n",
       "      <th></th>\n",
       "      <th>name</th>\n",
       "      <th>age</th>\n",
       "      <th>job</th>\n",
       "    </tr>\n",
       "  </thead>\n",
       "  <tbody>\n",
       "    <tr>\n",
       "      <th>2</th>\n",
       "      <td>Nate</td>\n",
       "      <td>30</td>\n",
       "      <td>teacher</td>\n",
       "    </tr>\n",
       "  </tbody>\n",
       "</table>\n",
       "</div>"
      ],
      "text/plain": [
       "   name  age      job\n",
       "2  Nate   30  teacher"
      ]
     },
     "execution_count": 76,
     "metadata": {},
     "output_type": "execute_result"
    }
   ],
   "source": [
    "df[(df['age'] > 25) & (df['name'] == 'Nate')]"
   ]
  },
  {
   "cell_type": "code",
   "execution_count": null,
   "id": "536d07f8",
   "metadata": {},
   "outputs": [],
   "source": []
  }
 ],
 "metadata": {
  "kernelspec": {
   "display_name": "Python 3 (ipykernel)",
   "language": "python",
   "name": "python3"
  },
  "language_info": {
   "codemirror_mode": {
    "name": "ipython",
    "version": 3
   },
   "file_extension": ".py",
   "mimetype": "text/x-python",
   "name": "python",
   "nbconvert_exporter": "python",
   "pygments_lexer": "ipython3",
   "version": "3.9.7"
  }
 },
 "nbformat": 4,
 "nbformat_minor": 5
}
